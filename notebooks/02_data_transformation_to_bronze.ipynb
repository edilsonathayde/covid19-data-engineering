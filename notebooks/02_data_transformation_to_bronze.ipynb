{
 "cells": [
  {
   "cell_type": "markdown",
   "id": "8deb2161-9349-4fb6-9c9a-9e6cf3400dad",
   "metadata": {},
   "source": [
    "# notebook/02_data_transformation_to_bronze"
   ]
  },
  {
   "cell_type": "code",
   "execution_count": 1,
   "id": "69fe9fc6-794a-4056-88a0-130dcc7d8a64",
   "metadata": {},
   "outputs": [],
   "source": [
    "import os\n",
    "import sys \n",
    "import logging\n",
    "\n",
    "# Caminho para a raiz do seu projeto\n",
    "project_root = os.path.abspath(\"..\")  # Sobe um nível de pasta a partir de 'notebooks'\n",
    "\n",
    "# Adiciona o caminho ao sys.path\n",
    "if project_root not in sys.path:\n",
    "    sys.path.insert(0, project_root)\n",
    "\n",
    "from src.utils import functions as F\n",
    "from config.configs import *\n",
    "from config.spark_session import create_spark_session"
   ]
  },
  {
   "cell_type": "markdown",
   "id": "32754fc5-9e05-4806-80dc-c3cd76d318d7",
   "metadata": {},
   "source": [
    "## Spark Session"
   ]
  },
  {
   "cell_type": "code",
   "execution_count": 2,
   "id": "2878e08e-550e-446e-bb3b-281baaef12be",
   "metadata": {},
   "outputs": [
    {
     "name": "stderr",
     "output_type": "stream",
     "text": [
      "Warning: Ignoring non-Spark config property: hive.metastore.uris\n",
      "Ivy Default Cache set to: /root/.ivy2/cache\n",
      "The jars for the packages stored in: /root/.ivy2/jars\n",
      "io.delta#delta-core_2.12 added as a dependency\n",
      "org.postgresql#postgresql added as a dependency\n",
      ":: resolving dependencies :: org.apache.spark#spark-submit-parent-13e0a7c9-ae2c-470b-be8f-b472ed0b0ec2;1.0\n",
      "\tconfs: [default]\n"
     ]
    },
    {
     "name": "stdout",
     "output_type": "stream",
     "text": [
      ":: loading settings :: url = jar:file:/opt/bitnami/spark/jars/ivy-2.5.1.jar!/org/apache/ivy/core/settings/ivysettings.xml\n"
     ]
    },
    {
     "name": "stderr",
     "output_type": "stream",
     "text": [
      "\tfound io.delta#delta-core_2.12;2.4.0 in central\n",
      "\tfound io.delta#delta-storage;2.4.0 in central\n",
      "\tfound org.antlr#antlr4-runtime;4.9.3 in central\n",
      "\tfound org.postgresql#postgresql;42.6.0 in central\n",
      "\tfound org.checkerframework#checker-qual;3.31.0 in central\n",
      ":: resolution report :: resolve 130ms :: artifacts dl 9ms\n",
      "\t:: modules in use:\n",
      "\tio.delta#delta-core_2.12;2.4.0 from central in [default]\n",
      "\tio.delta#delta-storage;2.4.0 from central in [default]\n",
      "\torg.antlr#antlr4-runtime;4.9.3 from central in [default]\n",
      "\torg.checkerframework#checker-qual;3.31.0 from central in [default]\n",
      "\torg.postgresql#postgresql;42.6.0 from central in [default]\n",
      "\t---------------------------------------------------------------------\n",
      "\t|                  |            modules            ||   artifacts   |\n",
      "\t|       conf       | number| search|dwnlded|evicted|| number|dwnlded|\n",
      "\t---------------------------------------------------------------------\n",
      "\t|      default     |   5   |   0   |   0   |   0   ||   5   |   0   |\n",
      "\t---------------------------------------------------------------------\n",
      ":: retrieving :: org.apache.spark#spark-submit-parent-13e0a7c9-ae2c-470b-be8f-b472ed0b0ec2\n",
      "\tconfs: [default]\n",
      "\t1 artifacts copied, 4 already retrieved (4184kB/14ms)\n",
      "24/11/18 11:27:27 WARN NativeCodeLoader: Unable to load native-hadoop library for your platform... using builtin-java classes where applicable\n",
      "Setting default log level to \"WARN\".\n",
      "To adjust logging level use sc.setLogLevel(newLevel). For SparkR, use setLogLevel(newLevel).\n",
      "24/11/18 11:27:27 WARN Utils: Service 'SparkUI' could not bind on port 4040. Attempting port 4041.\n"
     ]
    }
   ],
   "source": [
    "spark = create_spark_session(HOST_ADDRESS, MINIO_ACCESS_KEY, MINIO_SECRET_KEY)"
   ]
  },
  {
   "cell_type": "markdown",
   "id": "c14b249c-9cea-4887-bece-97dd34178061",
   "metadata": {},
   "source": [
    "## Log configs"
   ]
  },
  {
   "cell_type": "code",
   "execution_count": 3,
   "id": "fafffb8e-9922-4530-8d18-2923fca5a99c",
   "metadata": {},
   "outputs": [
    {
     "name": "stderr",
     "output_type": "stream",
     "text": [
      "2024-11-18 11:27:28,438 - INFO - Starting convertions from Raw(CSV) to Bronze(Delta) COVID19...\n"
     ]
    }
   ],
   "source": [
    "logging.basicConfig(level=logging.INFO, format='%(asctime)s - %(levelname)s - %(message)s')\n",
    "\n",
    "logging.info(\"Starting convertions from Raw(CSV) to Bronze(Delta) COVID19...\")"
   ]
  },
  {
   "cell_type": "markdown",
   "id": "06c70a15-fc8d-4688-9013-5a7652d48817",
   "metadata": {},
   "source": [
    "## Path configs"
   ]
  },
  {
   "cell_type": "code",
   "execution_count": 4,
   "id": "9234e5e2-68b7-4f4f-ab59-bfdf6f3ea075",
   "metadata": {},
   "outputs": [],
   "source": [
    "input_file_name = file_name['0']\n",
    "input_prefix_layer_name = prefix_layer_name['0']   # raw layer\n",
    "table_input_name = lake_path['raw']\n",
    "\n",
    "output_prefix_layer_name = prefix_layer_name['1']   # bronze layer\n",
    "storage_output = lake_path['bronze']\n",
    "output_tabela_name = tabela_name['0']  # nivel agregação\n",
    "\n",
    "output_full_name = f\"{storage_output}{output_prefix_layer_name}{output_tabela_name}\""
   ]
  },
  {
   "cell_type": "markdown",
   "id": "a16aeaf2-7592-470b-954c-cf1488eedc8e",
   "metadata": {},
   "source": [
    "## Process"
   ]
  },
  {
   "cell_type": "code",
   "execution_count": 5,
   "id": "b7c2ea8c-b4d3-431e-b10b-08dbcdf157c3",
   "metadata": {},
   "outputs": [
    {
     "name": "stderr",
     "output_type": "stream",
     "text": [
      "24/11/18 11:27:30 WARN package: Truncated the string representation of a plan since it was too large. This behavior can be adjusted by setting 'spark.sql.debug.maxToStringFields'.\n",
      "24/11/18 11:27:30 WARN MetricsConfig: Cannot locate configuration: tried hadoop-metrics2-s3a-file-system.properties,hadoop-metrics2.properties\n",
      "2024-11-18 11:27:38,181 - INFO - Processing completed successfully!             \n"
     ]
    }
   ],
   "source": [
    "# Carregar o arquivo CSV e garantir que a primeira linha seja tratada como o cabeçalho\n",
    "df_input_data = spark.read.format(\"csv\").option(\"header\", \"true\").load(f'{project_root}/{table_input_name}/{input_file_name}')\n",
    "\n",
    "# Adicionando metadados (se necessário)\n",
    "df_with_update_date = F.add_metadata(df_input_data)\n",
    "\n",
    "# Escrevendo o DataFrame em formato Delta e particionando pela coluna \"aggregation_level\"\n",
    "df_with_update_date.write.format(\"delta\").mode(\"overwrite\").save(f'{output_full_name}')\n",
    "\n",
    "logging.info(\"Processing completed successfully!\")"
   ]
  }
 ],
 "metadata": {
  "kernelspec": {
   "display_name": "Python 3 (ipykernel)",
   "language": "python",
   "name": "python3"
  },
  "language_info": {
   "codemirror_mode": {
    "name": "ipython",
    "version": 3
   },
   "file_extension": ".py",
   "mimetype": "text/x-python",
   "name": "python",
   "nbconvert_exporter": "python",
   "pygments_lexer": "ipython3",
   "version": "3.11.8"
  }
 },
 "nbformat": 4,
 "nbformat_minor": 5
}
