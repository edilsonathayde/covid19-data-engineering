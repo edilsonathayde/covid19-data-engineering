{
 "cells": [
  {
   "cell_type": "markdown",
   "id": "0e37ada4-a6d4-4f93-9288-172018b59a1c",
   "metadata": {},
   "source": [
    "# notebook/01_data_extraction"
   ]
  },
  {
   "cell_type": "code",
   "execution_count": 1,
   "id": "ce1cb4b8-04a5-44d9-aed7-719446269b86",
   "metadata": {},
   "outputs": [],
   "source": [
    "# Importando bibliotecas necessárias\n",
    "import yaml\n",
    "import sys\n",
    "import os\n",
    "from pyspark.sql import SparkSession\n",
    "\n",
    "# Caminho para a raiz do seu projeto\n",
    "project_root = os.path.abspath(\"..\")  # Sobe um nível de pasta a partir de 'notebooks'\n",
    "\n",
    "# Adiciona o caminho ao sys.path\n",
    "if project_root not in sys.path:\n",
    "    sys.path.insert(0, project_root)\n",
    "\n",
    "from src.utils.functions import download_file_from_url\n",
    "from config.configs import *"
   ]
  },
  {
   "cell_type": "markdown",
   "id": "5f15593b-ff48-4b80-9173-67c5eb66ec64",
   "metadata": {},
   "source": [
    "## Path configs"
   ]
  },
  {
   "cell_type": "code",
   "execution_count": 2,
   "id": "fc99fca2-144b-4f3c-ae1b-2193e4161984",
   "metadata": {},
   "outputs": [],
   "source": [
    "# Parâmetros de configuração\n",
    "input_url = file_data['url']\n",
    "input_file_name = file_data['file_name']\n",
    "input_raw_path = lake_path['raw']\n",
    "\n",
    "# Caminho completo do arquivo RAW\n",
    "output_full_name = f\"{project_root}{input_raw_path}\"\n",
    "\n",
    "input_file_name = file_name['0']\n",
    "\n",
    "input_prefix_layer_name = prefix_layer_name['0']\n",
    "table_input_name = lake_path['raw']\n",
    "\n",
    "output_prefix_layer_name = prefix_layer_name['1']\n",
    "storage_output = lake_path['bronze']"
   ]
  },
  {
   "cell_type": "markdown",
   "id": "c2ccf5d9-f217-49f1-b5ad-940c4e679d3c",
   "metadata": {},
   "source": [
    "## Process"
   ]
  },
  {
   "cell_type": "code",
   "execution_count": 3,
   "id": "a7db423a-fe77-4e1d-b2df-ea65ffb3a170",
   "metadata": {},
   "outputs": [
    {
     "name": "stderr",
     "output_type": "stream",
     "text": [
      "Setting default log level to \"WARN\".\n",
      "To adjust logging level use sc.setLogLevel(newLevel). For SparkR, use setLogLevel(newLevel).\n",
      "24/11/18 13:28:43 WARN NativeCodeLoader: Unable to load native-hadoop library for your platform... using builtin-java classes where applicable\n"
     ]
    }
   ],
   "source": [
    "# Baixando o arquivo\n",
    "download_message = download_file_from_url(input_url, input_file_name, input_raw_path)\n",
    "\n",
    "# Inicializando SparkSession (caso ainda não tenha sido inicializado)\n",
    "spark = SparkSession.builder.getOrCreate()\n",
    "\n",
    "# Carregar o arquivo CSV em um DataFrame e considerar a primeira linha como cabeçalho\n",
    "df_input_data = spark.read.format(\"csv\").load(f'{project_root}{table_input_name}/{input_file_name}')"
   ]
  }
 ],
 "metadata": {
  "kernelspec": {
   "display_name": "Python 3 (ipykernel)",
   "language": "python",
   "name": "python3"
  },
  "language_info": {
   "codemirror_mode": {
    "name": "ipython",
    "version": 3
   },
   "file_extension": ".py",
   "mimetype": "text/x-python",
   "name": "python",
   "nbconvert_exporter": "python",
   "pygments_lexer": "ipython3",
   "version": "3.11.8"
  }
 },
 "nbformat": 4,
 "nbformat_minor": 5
}
