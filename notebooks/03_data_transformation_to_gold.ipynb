{
 "cells": [
  {
   "cell_type": "markdown",
   "id": "8deb2161-9349-4fb6-9c9a-9e6cf3400dad",
   "metadata": {},
   "source": [
    "# notebook/03_data_transformation_to_gold"
   ]
  },
  {
   "cell_type": "code",
   "execution_count": 1,
   "id": "21e10e63-0962-49fd-9339-fe4004e52ea0",
   "metadata": {},
   "outputs": [],
   "source": [
    "import os\n",
    "import sys \n",
    "import logging\n",
    "\n",
    "# Caminho para a raiz do seu projeto\n",
    "project_root = os.path.abspath(\"..\")  # Sobe um nível de pasta a partir de 'notebooks'\n",
    "\n",
    "# Adiciona o caminho ao sys.path\n",
    "if project_root not in sys.path:\n",
    "    sys.path.insert(0, project_root)\n",
    "\n",
    "from src.utils import functions as F\n",
    "from config.configs import *\n",
    "from config.spark_session import create_spark_session"
   ]
  },
  {
   "cell_type": "markdown",
   "id": "32754fc5-9e05-4806-80dc-c3cd76d318d7",
   "metadata": {},
   "source": [
    "## Spark Session"
   ]
  },
  {
   "cell_type": "code",
   "execution_count": null,
   "id": "8857a0d9-35c5-4985-baa6-e6454f731c66",
   "metadata": {},
   "outputs": [],
   "source": [
    "spark = create_spark_session(HOST_ADDRESS, MINIO_ACCESS_KEY, MINIO_SECRET_KEY)"
   ]
  },
  {
   "cell_type": "markdown",
   "id": "c14b249c-9cea-4887-bece-97dd34178061",
   "metadata": {},
   "source": [
    "## Log configs"
   ]
  },
  {
   "cell_type": "code",
   "execution_count": 3,
   "id": "fafffb8e-9922-4530-8d18-2923fca5a99c",
   "metadata": {},
   "outputs": [
    {
     "name": "stderr",
     "output_type": "stream",
     "text": [
      "2024-11-18 11:42:55,419 - INFO - Starting convertions from Silver(Delta) to Gold(Delta) - COVID19...\n"
     ]
    }
   ],
   "source": [
    "logging.basicConfig(level=logging.INFO, format='%(asctime)s - %(levelname)s - %(message)s')\n",
    "\n",
    "logging.info(\"Starting convertions from Silver(Delta) to Gold(Delta) - COVID19...\")"
   ]
  },
  {
   "cell_type": "markdown",
   "id": "06c70a15-fc8d-4688-9013-5a7652d48817",
   "metadata": {},
   "source": [
    "## Path configs"
   ]
  },
  {
   "cell_type": "code",
   "execution_count": 4,
   "id": "9234e5e2-68b7-4f4f-ab59-bfdf6f3ea075",
   "metadata": {},
   "outputs": [],
   "source": [
    "input_prefix_layer_name = prefix_layer_name['2']  # silver layer\n",
    "input_path = lake_path['silver']\n",
    "\n",
    "output_prefix_layer_name = prefix_layer_name['3']  # gold layer\n",
    "storage_output = lake_path['gold']\n",
    "output_tabela_name = tabela_name['0']  # nivel agregação\n",
    "\n",
    "output_full_name = f\"{storage_output}{output_prefix_layer_name}{output_tabela_name}\""
   ]
  },
  {
   "cell_type": "markdown",
   "id": "a16aeaf2-7592-470b-954c-cf1488eedc8e",
   "metadata": {},
   "source": [
    "## Process"
   ]
  },
  {
   "cell_type": "code",
   "execution_count": null,
   "id": "ec6bfb4b-e916-4a86-86d5-332022b72642",
   "metadata": {},
   "outputs": [],
   "source": [
    "try:\n",
    "    for table_name, query_input in tables_gold.items():\n",
    "        table_name = F.convert_table_name(table_name)\n",
    "\n",
    "        # Obter a consulta para o carregamento do arquivo\n",
    "        query_input = F.get_query(table_name, input_path, input_prefix_layer_name, output_tabela_name, tables_gold)\n",
    "        \n",
    "        # Definir o caminho de saída\n",
    "        storage_output = f'{output_full_name}'\n",
    "\n",
    "        # Chamar a função process_table para processar e gravar os dados\n",
    "        F.process_table(spark, query_input, output_full_name)\n",
    "    \n",
    "    logging.info(\"Process to silver completed!\")\n",
    "    \n",
    "except Exception as e:\n",
    "    logging.error(f'Error processing table: {str(e)}')"
   ]
  }
 ],
 "metadata": {
  "kernelspec": {
   "display_name": "Python 3 (ipykernel)",
   "language": "python",
   "name": "python3"
  },
  "language_info": {
   "codemirror_mode": {
    "name": "ipython",
    "version": 3
   },
   "file_extension": ".py",
   "mimetype": "text/x-python",
   "name": "python",
   "nbconvert_exporter": "python",
   "pygments_lexer": "ipython3",
   "version": "3.11.8"
  }
 },
 "nbformat": 4,
 "nbformat_minor": 5
}
